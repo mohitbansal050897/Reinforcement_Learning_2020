{
 "cells": [
  {
   "cell_type": "markdown",
   "metadata": {},
   "source": [
    "# Random walk applications before Monte carlo"
   ]
  },
  {
   "cell_type": "code",
   "execution_count": 1,
   "metadata": {},
   "outputs": [],
   "source": [
    "import random #-10-----------------home----------------10"
   ]
  },
  {
   "cell_type": "code",
   "execution_count": 2,
   "metadata": {},
   "outputs": [],
   "source": [
    "def random_walk(n):\n",
    "    x=0\n",
    "    y=0\n",
    "    for i in range(n):\n",
    "        step = random.choice(['N','S','E','W'])\n",
    "        if  step == 'N':\n",
    "            y=y+1\n",
    "        elif  step == 'S':\n",
    "            y=y-1\n",
    "        elif  step == 'E':\n",
    "            x=x+1\n",
    "        elif  step == 'W':\n",
    "            x=x-1\n",
    "            \n",
    "    return(x,y)"
   ]
  },
  {
   "cell_type": "code",
   "execution_count": 4,
   "metadata": {},
   "outputs": [
    {
     "name": "stdout",
     "output_type": "stream",
     "text": [
      "(-1, 1) distance from home= 2\n",
      "(1, 1) distance from home= 2\n",
      "(-3, 3) distance from home= 6\n",
      "(-3, -1) distance from home= 4\n",
      "(-4, 2) distance from home= 6\n",
      "(-1, 1) distance from home= 2\n",
      "(2, 0) distance from home= 2\n",
      "(0, -4) distance from home= 4\n",
      "(2, -2) distance from home= 4\n",
      "(2, -2) distance from home= 4\n",
      "(-3, -3) distance from home= 6\n",
      "(-1, 1) distance from home= 2\n",
      "(1, -1) distance from home= 2\n",
      "(1, -1) distance from home= 2\n",
      "(-4, -4) distance from home= 8\n",
      "(1, -1) distance from home= 2\n",
      "(1, 1) distance from home= 2\n",
      "(0, 0) distance from home= 0\n",
      "(-1, -1) distance from home= 2\n",
      "(-3, -3) distance from home= 6\n",
      "(-3, -5) distance from home= 8\n",
      "(-5, 1) distance from home= 6\n",
      "(4, 0) distance from home= 4\n",
      "(2, 2) distance from home= 4\n",
      "(0, 0) distance from home= 0\n"
     ]
    }
   ],
   "source": [
    "for i in range(25):\n",
    "    walk=random_walk(10)\n",
    "    print(walk, \"distance from home=\",abs(walk[0])+abs(walk[1]))"
   ]
  },
  {
   "cell_type": "code",
   "execution_count": 5,
   "metadata": {},
   "outputs": [],
   "source": [
    "def random_walk2(n):\n",
    "    x,y = 0,0\n",
    "    for i in range(n):\n",
    "        (dx,dy) = random.choice([(0,1),(0,-1),(1,0),(-1,0)])\n",
    "        x+=dx\n",
    "        y+=dy\n",
    "    return (x,y)"
   ]
  },
  {
   "cell_type": "code",
   "execution_count": 6,
   "metadata": {},
   "outputs": [
    {
     "name": "stdout",
     "output_type": "stream",
     "text": [
      "(2, 0) distance from home= 2\n",
      "(1, 3) distance from home= 4\n",
      "(-1, 1) distance from home= 2\n",
      "(-1, -1) distance from home= 2\n",
      "(2, 2) distance from home= 4\n",
      "(0, -2) distance from home= 2\n",
      "(-5, -3) distance from home= 8\n",
      "(-3, -3) distance from home= 6\n",
      "(1, -1) distance from home= 2\n",
      "(0, -4) distance from home= 4\n",
      "(-2, -2) distance from home= 4\n",
      "(-2, 4) distance from home= 6\n",
      "(-1, 5) distance from home= 6\n",
      "(1, -1) distance from home= 2\n",
      "(1, 1) distance from home= 2\n",
      "(4, -2) distance from home= 6\n",
      "(-2, 0) distance from home= 2\n",
      "(-1, -1) distance from home= 2\n",
      "(-1, -3) distance from home= 4\n",
      "(0, 2) distance from home= 2\n",
      "(1, -1) distance from home= 2\n",
      "(1, -1) distance from home= 2\n",
      "(0, -2) distance from home= 2\n",
      "(-1, -1) distance from home= 2\n",
      "(3, -3) distance from home= 6\n"
     ]
    }
   ],
   "source": [
    "for i in range(25):\n",
    "    walk=random_walk2(10)\n",
    "    print(walk, \"distance from home=\",abs(walk[0])+abs(walk[1]))"
   ]
  },
  {
   "cell_type": "code",
   "execution_count": 18,
   "metadata": {},
   "outputs": [],
   "source": [
    "number_of_walks = 10"
   ]
  },
  {
   "cell_type": "code",
   "execution_count": 19,
   "metadata": {},
   "outputs": [
    {
     "name": "stdout",
     "output_type": "stream",
     "text": [
      "walk_size = 1  / % of no transport = 100.0\n",
      "walk_size = 2  / % of no transport = 100.0\n",
      "walk_size = 3  / % of no transport = 100.0\n",
      "walk_size = 4  / % of no transport = 100.0\n",
      "walk_size = 5  / % of no transport = 80.0\n",
      "walk_size = 6  / % of no transport = 100.0\n",
      "walk_size = 7  / % of no transport = 80.0\n",
      "walk_size = 8  / % of no transport = 80.0\n",
      "walk_size = 9  / % of no transport = 60.0\n",
      "walk_size = 10  / % of no transport = 90.0\n",
      "walk_size = 11  / % of no transport = 60.0\n",
      "walk_size = 12  / % of no transport = 100.0\n",
      "walk_size = 13  / % of no transport = 60.0\n",
      "walk_size = 14  / % of no transport = 40.0\n",
      "walk_size = 15  / % of no transport = 60.0\n",
      "walk_size = 16  / % of no transport = 90.0\n",
      "walk_size = 17  / % of no transport = 30.0\n",
      "walk_size = 18  / % of no transport = 50.0\n",
      "walk_size = 19  / % of no transport = 60.0\n",
      "walk_size = 20  / % of no transport = 40.0\n",
      "walk_size = 21  / % of no transport = 30.0\n",
      "walk_size = 22  / % of no transport = 30.0\n",
      "walk_size = 23  / % of no transport = 80.0\n",
      "walk_size = 24  / % of no transport = 30.0\n",
      "walk_size = 25  / % of no transport = 40.0\n",
      "walk_size = 26  / % of no transport = 50.0\n",
      "walk_size = 27  / % of no transport = 40.0\n",
      "walk_size = 28  / % of no transport = 60.0\n",
      "walk_size = 29  / % of no transport = 20.0\n",
      "walk_size = 30  / % of no transport = 60.0\n"
     ]
    }
   ],
   "source": [
    "for walk_length in range(1,31):\n",
    "    no_transport = 0 #number of walks or fewer block from home\n",
    "    for i in range(number_of_walks):\n",
    "        (x,y)=random_walk2(walk_length)\n",
    "        distance = abs(x) + abs(y)\n",
    "        if distance <=4:\n",
    "            no_transport+=1\n",
    "    no_walks_percentage = float(no_transport)/number_of_walks\n",
    "    print(\"walk_size =\",walk_length,\" / % of no transport =\",100*no_walks_percentage)"
   ]
  },
  {
   "cell_type": "code",
   "execution_count": null,
   "metadata": {},
   "outputs": [],
   "source": []
  }
 ],
 "metadata": {
  "kernelspec": {
   "display_name": "Python 3",
   "language": "python",
   "name": "python3"
  },
  "language_info": {
   "codemirror_mode": {
    "name": "ipython",
    "version": 3
   },
   "file_extension": ".py",
   "mimetype": "text/x-python",
   "name": "python",
   "nbconvert_exporter": "python",
   "pygments_lexer": "ipython3",
   "version": "3.8.3"
  }
 },
 "nbformat": 4,
 "nbformat_minor": 4
}
