{
 "cells": [
  {
   "cell_type": "markdown",
   "metadata": {},
   "source": [
    "# Policy Iteration"
   ]
  },
  {
   "cell_type": "code",
   "execution_count": 3,
   "metadata": {},
   "outputs": [],
   "source": [
    "import gym "
   ]
  },
  {
   "cell_type": "code",
   "execution_count": 4,
   "metadata": {},
   "outputs": [],
   "source": [
    "import numpy as np"
   ]
  },
  {
   "cell_type": "markdown",
   "metadata": {},
   "source": [
    "# Initializing gym env"
   ]
  },
  {
   "cell_type": "code",
   "execution_count": 5,
   "metadata": {},
   "outputs": [],
   "source": [
    "env=gym.make('FrozenLake-v0')"
   ]
  },
  {
   "cell_type": "code",
   "execution_count": 6,
   "metadata": {},
   "outputs": [
    {
     "name": "stdout",
     "output_type": "stream",
     "text": [
      "\n",
      "\u001b[41mS\u001b[0mFFF\n",
      "FHFH\n",
      "FFFH\n",
      "HFFG\n"
     ]
    }
   ],
   "source": [
    "env.render()"
   ]
  },
  {
   "cell_type": "code",
   "execution_count": 17,
   "metadata": {},
   "outputs": [],
   "source": [
    "def compute_value_function(policy,gamma=1.0):\n",
    "    value_table=np.zeros(env.nS)\n",
    "    threshold = 1e-10\n",
    "    \n",
    "    while True:\n",
    "        updated_value_table=np.copy(value_table) \n",
    "        for state in range(env.nS):\n",
    "            action=policy[state]\n",
    "            \n",
    "            value_table[state]=sum([trans_prob +(reward_prob +gamma * updated_value_table[next_state])\n",
    "                                    for trans_prob, next_state, reward_prob, _ in env.P[state][action]])\n",
    "            \n",
    "        if(np.sum(np.fabs(updated_value_table - value_table)) <= threshold):\n",
    "            break\n",
    "            \n",
    "    return value_table"
   ]
  },
  {
   "cell_type": "code",
   "execution_count": 18,
   "metadata": {},
   "outputs": [],
   "source": [
    "def extract_policy(value_table,gamma = 1.0):\n",
    "    policy = np.zeros(env.observation_space.n)\n",
    "    \n",
    "    for state in range(env.observation_space.n):\n",
    "        Q_table = np.zeros(env.action_space.n)\n",
    "        \n",
    "        #compute Q value for all the actions in the state\n",
    "        for action in range(env.action_space.n):\n",
    "            for next_sr in env.P[state][action]:\n",
    "                trans_prob,next_state,reward_prob,_ = next_sr\n",
    "                Q_table[action]+=(trans_prob * (reward_prob + gamma *value_table[next_state]))\n",
    "                \n",
    "                policy[state] = np.argmax(Q_table)\n",
    "                \n",
    "    return policy"
   ]
  },
  {
   "cell_type": "code",
   "execution_count": 19,
   "metadata": {},
   "outputs": [],
   "source": [
    "def policy_iteration(env,gamma=1.0):\n",
    "    old_policy = np.zeros(env.observation_space.n)\n",
    "    no_of_iterations = 20000\n",
    "    \n",
    "    for i in range(no_of_iterations):\n",
    "        new_value_function = compute_value_function(old_policy,gamma)\n",
    "        \n",
    "        new_policy = extract_policy(new_value_function,gamma)\n",
    "        \n",
    "        if(np.all(old_policy == new_policy)):\n",
    "            print('policy iteration converged at step %d. '%(i+1))\n",
    "            break\n",
    "        old_policy = new_policy\n",
    "        \n",
    "    return new_policy"
   ]
  },
  {
   "cell_type": "code",
   "execution_count": null,
   "metadata": {},
   "outputs": [
    {
     "name": "stderr",
     "output_type": "stream",
     "text": [
      "C:\\ProgramData\\Anaconda3\\lib\\site-packages\\numpy\\core\\fromnumeric.py:90: RuntimeWarning: overflow encountered in reduce\n",
      "  return ufunc.reduce(obj, axis, dtype, out, **passkwargs)\n",
      "<ipython-input-17-24bcfee14c23>:10: RuntimeWarning: overflow encountered in double_scalars\n",
      "  value_table[state]=sum([trans_prob +(reward_prob +gamma * updated_value_table[next_state])\n",
      "<ipython-input-17-24bcfee14c23>:13: RuntimeWarning: invalid value encountered in subtract\n",
      "  if(np.sum(np.fabs(updated_value_table - value_table)) <= threshold):\n"
     ]
    }
   ],
   "source": [
    "policy_iteration(env)"
   ]
  },
  {
   "cell_type": "code",
   "execution_count": 16,
   "metadata": {},
   "outputs": [
    {
     "data": {
      "text/plain": [
       "array([0., 3., 3., 3., 0., 0., 0., 0., 3., 1., 0., 0., 0., 2., 1., 0.])"
      ]
     },
     "execution_count": 16,
     "metadata": {},
     "output_type": "execute_result"
    }
   ],
   "source": [
    "optimal_policy"
   ]
  },
  {
   "cell_type": "code",
   "execution_count": null,
   "metadata": {},
   "outputs": [],
   "source": []
  }
 ],
 "metadata": {
  "kernelspec": {
   "display_name": "Python 3",
   "language": "python",
   "name": "python3"
  },
  "language_info": {
   "codemirror_mode": {
    "name": "ipython",
    "version": 3
   },
   "file_extension": ".py",
   "mimetype": "text/x-python",
   "name": "python",
   "nbconvert_exporter": "python",
   "pygments_lexer": "ipython3",
   "version": "3.8.3"
  }
 },
 "nbformat": 4,
 "nbformat_minor": 4
}
